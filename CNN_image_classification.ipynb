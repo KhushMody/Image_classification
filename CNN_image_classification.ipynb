{
  "nbformat": 4,
  "nbformat_minor": 0,
  "metadata": {
    "colab": {
      "name": "CNN_image_classification.ipynb",
      "provenance": [],
      "private_outputs": true,
      "collapsed_sections": [],
      "authorship_tag": "ABX9TyMjFh5RzkUI9sfS5R5culCs",
      "include_colab_link": true
    },
    "kernelspec": {
      "name": "python3",
      "display_name": "Python 3"
    }
  },
  "cells": [
    {
      "cell_type": "markdown",
      "metadata": {
        "id": "view-in-github",
        "colab_type": "text"
      },
      "source": [
        "<a href=\"https://colab.research.google.com/github/KhushMody/Image_classification/blob/master/CNN_image_classification.ipynb\" target=\"_parent\"><img src=\"https://colab.research.google.com/assets/colab-badge.svg\" alt=\"Open In Colab\"/></a>"
      ]
    },
    {
      "cell_type": "code",
      "metadata": {
        "id": "9QzN--ccZTHD",
        "colab_type": "code",
        "colab": {}
      },
      "source": [
        "! mkdir ~/.kaggle"
      ],
      "execution_count": null,
      "outputs": []
    },
    {
      "cell_type": "code",
      "metadata": {
        "id": "GJ5ILex-ZseT",
        "colab_type": "code",
        "colab": {}
      },
      "source": [
        "! cp kaggle.json ~/.kaggle/"
      ],
      "execution_count": null,
      "outputs": []
    },
    {
      "cell_type": "code",
      "metadata": {
        "id": "g4aF6AhjWeRs",
        "colab_type": "code",
        "colab": {}
      },
      "source": [
        "! kaggle datasets download -d puneet6060/intel-image-classification\n",
        "! unzip intel-image-classification"
      ],
      "execution_count": null,
      "outputs": []
    },
    {
      "cell_type": "code",
      "metadata": {
        "id": "e-nU20CGZ-rn",
        "colab_type": "code",
        "colab": {}
      },
      "source": [
        "import numpy as np\n",
        "import pandas as pd\n",
        "from keras import layers\n",
        "from keras.layers import Input,Dense,Activation,ZeroPadding2D,BatchNormalization,Flatten,Conv2D\n",
        "from keras.layers import AveragePooling2D,MaxPooling2D,Dropout,GlobalAveragePooling2D,GlobalMaxPooling2D\n",
        "from keras.models import Model\n",
        "from keras.preprocessing import image\n",
        "from keras.utils import layer_utils\n",
        "from tensorflow.keras.preprocessing.image import ImageDataGenerator\n",
        "from tensorflow.keras.callbacks import ModelCheckpoint, ReduceLROnPlateau\n",
        "from keras.applications.imagenet_utils import preprocess_input\n",
        "import pydot\n",
        "from IPython.display import SVG\n",
        "from keras.utils.vis_utils import model_to_dot\n",
        "from keras.utils import plot_model\n",
        "from keras.initializers import glorot_uniform\n",
        "import scipy.misc\n",
        "from matplotlib.pyplot import imshow\n",
        "import scipy.misc\n",
        "import imageio\n",
        "\n",
        "import keras.backend as K\n",
        "K.set_image_data_format('channels_last')\n",
        "import matplotlib.pyplot as plt\n",
        "from matplotlib.pyplot import imshow"
      ],
      "execution_count": null,
      "outputs": []
    },
    {
      "cell_type": "code",
      "metadata": {
        "id": "itIIV9rNlZ04",
        "colab_type": "code",
        "colab": {}
      },
      "source": [
        "def hmodel():\n",
        "  num_classes = 6\n",
        "  img_height,img_width = (150,150)\n",
        "  X_input = Input(shape = (img_height,img_width,3))\n",
        "  X = ZeroPadding2D((2,2))(X_input)\n",
        "  X = Conv2D(16,(2,2),strides=(1,1), padding='same',name = 'conv0')(X)\n",
        "  X = BatchNormalization(axis = 3,name = 'bn0')(X)\n",
        "  X = Activation('relu')(X)\n",
        "  X = MaxPooling2D((2,2),padding='same',name = 'max_pool0')(X)\n",
        "\n",
        "  X = Conv2D(32,(2,2),strides=(1,1), padding = 'same', name = 'conv1')(X)\n",
        "  X = BatchNormalization(axis = 3, name = 'bn1')(X)\n",
        "  X = Activation('relu')(X)\n",
        "  X = MaxPooling2D((2,2), padding = 'valid',name = 'max_pool1')(X)\n",
        "  \n",
        "  X = Conv2D(64,(2,2),strides=(1,1), padding = 'same', name = 'conv2')(X)\n",
        "  X = BatchNormalization(axis = 3, name = 'bn2')(X)\n",
        "  X = Activation('relu')(X)\n",
        "  X = MaxPooling2D((2,2), padding = 'valid',name = 'max_pool2')(X)\n",
        "  \n",
        "  X = Conv2D(128,(2,2),strides=(1,1), padding = 'same', name = 'conv3')(X)\n",
        "  X = BatchNormalization(axis = 3, name = 'bn3')(X)\n",
        "  X = Activation('relu')(X)\n",
        "  X = MaxPooling2D((2,2), padding = 'valid',name = 'max_pool3')(X)\n",
        "  \n",
        "  X = Flatten()(X)\n",
        "  X = Dense(256)(X)\n",
        "  X = BatchNormalization()(X)\n",
        "  X = Activation('relu')(X)\n",
        "\n",
        "  X = Dense(256)(X)\n",
        "  X = BatchNormalization()(X)\n",
        "  X = Activation('relu')(X)\n",
        "\n",
        "  X_output = Dense(num_classes, activation = 'softmax')(X)\n",
        "\n",
        "  model = Model(inputs = X_input, outputs = X_output)\n",
        "\n",
        "  return model"
      ],
      "execution_count": null,
      "outputs": []
    },
    {
      "cell_type": "code",
      "metadata": {
        "id": "RuwFnbBBBMY0",
        "colab_type": "code",
        "colab": {}
      },
      "source": [
        "model = hmodel()"
      ],
      "execution_count": null,
      "outputs": []
    },
    {
      "cell_type": "code",
      "metadata": {
        "id": "aCpvCqx0ENJT",
        "colab_type": "code",
        "colab": {}
      },
      "source": [
        "model.compile(optimizer = 'adam', loss= 'categorical_crossentropy', metrics = ['accuracy'])\n",
        "model.summary()"
      ],
      "execution_count": null,
      "outputs": []
    },
    {
      "cell_type": "code",
      "metadata": {
        "id": "i1-y1g3FE--P",
        "colab_type": "code",
        "colab": {}
      },
      "source": [
        "img_size = 150\n",
        "BS = 32\n",
        "\n",
        "datagen_train = ImageDataGenerator(horizontal_flip = True,\n",
        "                                   rescale = 1./255,\n",
        "                                   shear_range = 0.2,\n",
        "                                   zoom_range = 0.2)\n",
        "train_genrator = datagen_train.flow_from_directory(\"/content/seg_train/seg_train\",\n",
        "                                                   target_size = (img_size,img_size),\n",
        "                                                   batch_size = BS,\n",
        "                                                   class_mode = \"categorical\",\n",
        "                                                   shuffle = True)\n",
        "\n",
        "datagen_validation = ImageDataGenerator(horizontal_flip = True,\n",
        "                                        rescale = 1./255,\n",
        "                                        shear_range = 0.2,\n",
        "                                        zoom_range = 0.2)\n",
        "validation_generator = datagen_validation.flow_from_directory(\"/content/seg_test/seg_test\",\n",
        "                                                              target_size = (img_size,img_size),\n",
        "                                                              batch_size = BS,\n",
        "                                                              class_mode = \"categorical\",\n",
        "                                                              shuffle = False)\n"
      ],
      "execution_count": null,
      "outputs": []
    },
    {
      "cell_type": "code",
      "metadata": {
        "id": "OAjfNFp3JK7u",
        "colab_type": "code",
        "colab": {}
      },
      "source": [
        "epochs = 10\n",
        "steps_per_epoch = train_genrator.n//train_genrator.batch_size\n",
        "validation_steps = validation_generator.n//validation_generator.batch_size\n",
        "\n",
        "reduce_lr = ReduceLROnPlateau(monitor = 'val_loss', factor=0.1, patience= 2, min_lr = 0.00001, mode = 'auto')\n",
        "checkpoint = ModelCheckpoint(\"model_weights.h5\", monitor='val_accuracy',save_weights_only=True, mode = 'max',verbose = 1)\n",
        "callbacks = [checkpoint, reduce_lr]\n",
        "\n",
        "H = model.fit(x = train_genrator,\n",
        "              steps_per_epoch = steps_per_epoch,\n",
        "              epochs = epochs,\n",
        "              validation_data = validation_generator,\n",
        "              validation_steps = validation_steps,\n",
        "              #callbacks = callbacks\n",
        "              )"
      ],
      "execution_count": null,
      "outputs": []
    },
    {
      "cell_type": "code",
      "metadata": {
        "id": "JNr2SrfQLMeH",
        "colab_type": "code",
        "colab": {}
      },
      "source": [
        "model.save(\"./image_classification.h5\")\n",
        "\n",
        "H.history"
      ],
      "execution_count": null,
      "outputs": []
    },
    {
      "cell_type": "code",
      "metadata": {
        "id": "yB5u8a9NeVfo",
        "colab_type": "code",
        "colab": {}
      },
      "source": [
        "img_path = '/content/black-high-rise-building-under-grey-and-white-sky-during-65438.jpg'\n",
        "img = image.load_img(img_path, target_size=(150, 150))\n",
        "x = image.img_to_array(img)\n",
        "x = np.expand_dims(x, axis=0)\n",
        "x = x/255.0\n",
        "print('Input image shape:', x.shape)\n",
        "my_image = imageio.imread(img_path)\n",
        "imshow(my_image)\n",
        "#print(\"class prediction vector [p(0), p(1), p(2), p(3), p(4), p(5)] = \")\n",
        "print(np.max(model.predict(x)))"
      ],
      "execution_count": null,
      "outputs": []
    },
    {
      "cell_type": "code",
      "metadata": {
        "id": "HwXHGf1ApHBU",
        "colab_type": "code",
        "colab": {}
      },
      "source": [
        ""
      ],
      "execution_count": null,
      "outputs": []
    }
  ]
}